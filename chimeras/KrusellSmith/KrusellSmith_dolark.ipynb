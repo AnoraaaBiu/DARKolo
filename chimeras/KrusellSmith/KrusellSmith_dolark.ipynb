{
 "cells": [
  {
   "cell_type": "code",
   "execution_count": 1,
   "metadata": {},
   "outputs": [],
   "source": [
    "# Set up\n",
    "# Before this setup, please go and check \"README.md\" to install what are necessary for running the following code.\n",
    "from dolo import *\n",
    "\n",
    "import dolark\n",
    "from dolark import HModel  # The model is written in yaml file, and HModel reads the yaml file.\n",
    "from dolark.equilibrium import find_steady_state\n",
    "from dolark.perturbation import perturb   #find variations\n",
    "from dolo import time_iteration, improved_time_iteration     #time iteration is backward induction\n",
    "from matplotlib import pyplot as plt\n",
    "import numpy as np"
   ]
  },
  {
   "cell_type": "markdown",
   "metadata": {},
   "source": [
    "# KrussellSmith Dolark implementation"
   ]
  },
  {
   "cell_type": "code",
   "execution_count": 2,
   "metadata": {},
   "outputs": [
    {
     "output_type": "execute_result",
     "data": {
      "text/plain": [
       "{'ex-ante-identical': True,\n",
       " 'conditional-processes': False,\n",
       " 'iid-shocks': False}"
      ]
     },
     "metadata": {},
     "execution_count": 2
    }
   ],
   "source": [
    "# model is written in .yaml file\n",
    "# HModel reads the yaml file\n",
    "aggmodel = HModel('KrusellSmith.yaml')\n",
    "\n",
    "# check features of the model   \n",
    "aggmodel.features"
   ]
  },
  {
   "cell_type": "code",
   "execution_count": 3,
   "metadata": {},
   "outputs": [
    {
     "output_type": "stream",
     "name": "stdout",
     "text": [
      "Computing Initial Initial Rule... \u001b[32mdone\u001b[0m\n",
      "Computing Steady State...\u001b[32mdone\u001b[0m\n"
     ]
    }
   ],
   "source": [
    "# baseline case where coefficient risk aversion is 1, serial correlation is 0.9 and variance of labor shocks is 0.04\n",
    "# other values of variables are the same as the those in parameter tables\n",
    "eq = find_steady_state(aggmodel)"
   ]
  },
  {
   "cell_type": "code",
   "execution_count": 4,
   "metadata": {},
   "outputs": [],
   "source": [
    "# data frame of the steay state\n",
    "df = eq.as_df()"
   ]
  },
  {
   "cell_type": "code",
   "execution_count": 5,
   "metadata": {},
   "outputs": [
    {
     "output_type": "execute_result",
     "data": {
      "text/html": "\n<div id=\"altair-viz-bed484120192489785363c52309445cc\"></div>\n<script type=\"text/javascript\">\n  (function(spec, embedOpt){\n    let outputDiv = document.currentScript.previousElementSibling;\n    if (outputDiv.id !== \"altair-viz-bed484120192489785363c52309445cc\") {\n      outputDiv = document.getElementById(\"altair-viz-bed484120192489785363c52309445cc\");\n    }\n    const paths = {\n      \"vega\": \"https://cdn.jsdelivr.net/npm//vega@5?noext\",\n      \"vega-lib\": \"https://cdn.jsdelivr.net/npm//vega-lib?noext\",\n      \"vega-lite\": \"https://cdn.jsdelivr.net/npm//vega-lite@4.8.1?noext\",\n      \"vega-embed\": \"https://cdn.jsdelivr.net/npm//vega-embed@6?noext\",\n    };\n\n    function loadScript(lib) {\n      return new Promise(function(resolve, reject) {\n        var s = document.createElement('script');\n        s.src = paths[lib];\n        s.async = true;\n        s.onload = () => resolve(paths[lib]);\n        s.onerror = () => reject(`Error loading script: ${paths[lib]}`);\n        document.getElementsByTagName(\"head\")[0].appendChild(s);\n      });\n    }\n\n    function showError(err) {\n      outputDiv.innerHTML = `<div class=\"error\" style=\"color:red;\">${err}</div>`;\n      throw err;\n    }\n\n    function displayChart(vegaEmbed) {\n      vegaEmbed(outputDiv, spec, embedOpt)\n        .catch(err => showError(`Javascript Error: ${err.message}<br>This usually means there's a typo in your chart specification. See the javascript console for the full traceback.`));\n    }\n\n    if(typeof define === \"function\" && define.amd) {\n      requirejs.config({paths});\n      require([\"vega-embed\"], displayChart, err => showError(`Error loading script: ${err.message}`));\n    } else if (typeof vegaEmbed === \"function\") {\n      displayChart(vegaEmbed);\n    } else {\n      loadScript(\"vega\")\n        .then(() => loadScript(\"vega-lite\"))\n        .then(() => loadScript(\"vega-embed\"))\n        .catch(showError)\n        .then(() => displayChart(vegaEmbed));\n    }\n  })({\"config\": {\"view\": {\"continuousWidth\": 400, \"continuousHeight\": 300}}, \"data\": {\"name\": \"data-5a87b705e345baabeeaa5a6ba5efaf3e\"}, \"mark\": \"line\", \"encoding\": {\"x\": {\"type\": \"quantitative\", \"axis\": {\"title\": \"Current Assets\"}, \"field\": \"a\"}, \"y\": {\"type\": \"quantitative\", \"axis\": {\"title\": \"Next Period Assets\"}, \"field\": \"i\"}}, \"$schema\": \"https://vega.github.io/schema/vega-lite/v4.8.1.json\", \"datasets\": {\"data-5a87b705e345baabeeaa5a6ba5efaf3e\": [{\"i_m\": 0.0, \"r\": 0.02565433564442518, \"w\": 1.2754502145513633, \"e\": -0.6488856845230503, \"a\": -1e-10, \"\\u03bc\": 0.20072266086604587, \"i\": -1.000000082740371e-10}, {\"i_m\": 0.0, \"r\": 0.02565433564442518, \"w\": 1.2754502145513633, \"e\": -0.6488856845230503, \"a\": 22.222222222133333, \"\\u03bc\": 0.04853811272746872, \"i\": 21.23129404023566}, {\"i_m\": 0.0, \"r\": 0.02565433564442518, \"w\": 1.2754502145513633, \"e\": -0.6488856845230503, \"a\": 44.44444444436666, \"\\u03bc\": 0.0007392264064864782, \"i\": 42.84051257305851}, {\"i_m\": 0.0, \"r\": 0.02565433564442518, \"w\": 1.2754502145513633, \"e\": -0.6488856845230503, \"a\": 66.6666666666, \"\\u03bc\": -2.81883321163264e-16, \"i\": 64.61067864291535}, {\"i_m\": 0.0, \"r\": 0.02565433564442518, \"w\": 1.2754502145513633, \"e\": -0.6488856845230503, \"a\": 88.88888888883332, \"\\u03bc\": -2.2021672635798784e-16, \"i\": 86.42691152923243}, {\"i_m\": 0.0, \"r\": 0.02565433564442518, \"w\": 1.2754502145513633, \"e\": -0.6488856845230503, \"a\": 111.11111111106665, \"\\u03bc\": -1.754277486793551e-16, \"i\": 108.26548147765799}, {\"i_m\": 0.0, \"r\": 0.02565433564442518, \"w\": 1.2754502145513633, \"e\": -0.6488856845230503, \"a\": 133.3333333333, \"\\u03bc\": -1.364120229157717e-16, \"i\": 130.11624255191145}, {\"i_m\": 0.0, \"r\": 0.02565433564442518, \"w\": 1.2754502145513633, \"e\": -0.6488856845230503, \"a\": 155.55555555553332, \"\\u03bc\": -9.808747102743142e-17, \"i\": 151.9749169281855}, {\"i_m\": 0.0, \"r\": 0.02565433564442518, \"w\": 1.2754502145513633, \"e\": -0.6488856845230503, \"a\": 177.77777777776666, \"\\u03bc\": -5.899691098919653e-17, \"i\": 173.83828382781908}, {\"i_m\": 0.0, \"r\": 0.02565433564442518, \"w\": 1.2754502145513633, \"e\": -0.6488856845230503, \"a\": 200.0, \"\\u03bc\": -2.2626729322184743e-17, \"i\": 195.70568348204043}, {\"i_m\": 1.0, \"r\": 0.02565433564442518, \"w\": 1.2754502145513633, \"e\": 0.0, \"a\": -1e-10, \"\\u03bc\": 0.36126984844057275, \"i\": 0.10258821735476076}, {\"i_m\": 1.0, \"r\": 0.02565433564442518, \"w\": 1.2754502145513633, \"e\": 0.0, \"a\": 22.222222222133333, \"\\u03bc\": 0.1362243301309486, \"i\": 21.53129178712133}, {\"i_m\": 1.0, \"r\": 0.02565433564442518, \"w\": 1.2754502145513633, \"e\": 0.0, \"a\": 44.44444444436666, \"\\u03bc\": 0.002505821428481384, \"i\": 43.1905139770881}, {\"i_m\": 1.0, \"r\": 0.02565433564442518, \"w\": 1.2754502145513633, \"e\": 0.0, \"a\": 66.6666666666, \"\\u03bc\": -5.94283299166904e-16, \"i\": 64.97057956231691}, {\"i_m\": 1.0, \"r\": 0.02565433564442518, \"w\": 1.2754502145513633, \"e\": 0.0, \"a\": 88.88888888883332, \"\\u03bc\": -4.753593138185072e-16, \"i\": 86.79204168025271}, {\"i_m\": 1.0, \"r\": 0.02565433564442518, \"w\": 1.2754502145513633, \"e\": 0.0, \"a\": 111.11111111106665, \"\\u03bc\": -3.9995065305033856e-16, \"i\": 108.63337032008454}, {\"i_m\": 1.0, \"r\": 0.02565433564442518, \"w\": 1.2754502145513633, \"e\": 0.0, \"a\": 133.3333333333, \"\\u03bc\": -3.445514224166348e-16, \"i\": 130.48574388614688}, {\"i_m\": 1.0, \"r\": 0.02565433564442518, \"w\": 1.2754502145513633, \"e\": 0.0, \"a\": 155.55555555553332, \"\\u03bc\": -2.9476986932870785e-16, \"i\": 152.3454317980229}, {\"i_m\": 1.0, \"r\": 0.02565433564442518, \"w\": 1.2754502145513633, \"e\": 0.0, \"a\": 177.77777777776666, \"\\u03bc\": -2.3403841153185704e-16, \"i\": 174.20945904101237}, {\"i_m\": 1.0, \"r\": 0.02565433564442518, \"w\": 1.2754502145513633, \"e\": 0.0, \"a\": 200.0, \"\\u03bc\": -1.3526874784225779e-16, \"i\": 196.07730035484494}, {\"i_m\": 2.0, \"r\": 0.02565433564442518, \"w\": 1.2754502145513633, \"e\": 0.6488856845230503, \"a\": -1e-10, \"\\u03bc\": 0.13865435609838442, \"i\": 0.7584131696101908}, {\"i_m\": 2.0, \"r\": 0.02565433564442518, \"w\": 1.2754502145513633, \"e\": 0.6488856845230503, \"a\": 22.222222222133333, \"\\u03bc\": 0.1083734648093486, \"i\": 22.274880701314405}, {\"i_m\": 2.0, \"r\": 0.02565433564442518, \"w\": 1.2754502145513633, \"e\": 0.6488856845230503, \"a\": 44.44444444436666, \"\\u03bc\": 0.0029721790922683723, \"i\": 43.98047939736765}, {\"i_m\": 2.0, \"r\": 0.02565433564442518, \"w\": 1.2754502145513633, \"e\": 0.6488856845230503, \"a\": 66.6666666666, \"\\u03bc\": -3.1669739070423686e-16, \"i\": 65.77578013300757}, {\"i_m\": 2.0, \"r\": 0.02565433564442518, \"w\": 1.2754502145513633, \"e\": 0.6488856845230503, \"a\": 88.88888888883332, \"\\u03bc\": -2.573609739072365e-16, \"i\": 87.60383792238241}, {\"i_m\": 2.0, \"r\": 0.02565433564442518, \"w\": 1.2754502145513633, \"e\": 0.6488856845230503, \"a\": 111.11111111106665, \"\\u03bc\": -2.2829569153589973e-16, \"i\": 109.44892483484604}, {\"i_m\": 2.0, \"r\": 0.02565433564442518, \"w\": 1.2754502145513633, \"e\": 0.6488856845230503, \"a\": 133.3333333333, \"\\u03bc\": -2.2152738241970508e-16, \"i\": 131.30353660018937}, {\"i_m\": 2.0, \"r\": 0.02565433564442518, \"w\": 1.2754502145513633, \"e\": 0.6488856845230503, \"a\": 155.55555555553332, \"\\u03bc\": -2.393189653082992e-16, \"i\": 153.1646758184801}, {\"i_m\": 2.0, \"r\": 0.02565433564442518, \"w\": 1.2754502145513633, \"e\": 0.6488856845230503, \"a\": 177.77777777776666, \"\\u03bc\": -2.9187525332921843e-16, \"i\": 175.02966953305514}, {\"i_m\": 2.0, \"r\": 0.02565433564442518, \"w\": 1.2754502145513633, \"e\": 0.6488856845230503, \"a\": 200.0, \"\\u03bc\": -4.003661122725598e-16, \"i\": 196.89818551497262}]}}, {\"mode\": \"vega-lite\"});\n</script>",
      "text/plain": [
       "alt.Chart(...)"
      ]
     },
     "metadata": {},
     "execution_count": 5
    }
   ],
   "source": [
    "# plot relationship between assets of this period and of next period  \n",
    "# altair plots a graph showing even if people have the same of level of wealth, their decisions are still different due to the idiosyncratic labor income shocks\n",
    "import altair as alt\n",
    "import pandas as pd\n",
    "\n",
    "df = eq.as_df()\n",
    "alt.Chart(df).mark_line().encode(\n",
    "    x = alt.X('a', axis = alt.Axis(title='Current Assets')),\n",
    "    y = alt.Y('i', axis=alt.Axis(title='Next Period Assets'))\n",
    ")"
   ]
  }
 ],
 "metadata": {
  "kernelspec": {
   "name": "python3",
   "display_name": "Python 3.7.3 64-bit",
   "metadata": {
    "interpreter": {
     "hash": "81a89be179991973be2b13eb7102c3157f60569762d2fb76e3f8baf4230451cb"
    }
   }
  },
  "language_info": {
   "codemirror_mode": {
    "name": "ipython",
    "version": 3
   },
   "file_extension": ".py",
   "mimetype": "text/x-python",
   "name": "python",
   "nbconvert_exporter": "python",
   "pygments_lexer": "ipython3",
   "version": "3.7.3-final"
  }
 },
 "nbformat": 4,
 "nbformat_minor": 4
}
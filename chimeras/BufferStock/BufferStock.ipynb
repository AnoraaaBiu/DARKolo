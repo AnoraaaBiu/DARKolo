{
 "cells": [
  {
   "cell_type": "markdown",
   "metadata": {},
   "source": [
    "# Buffer Stock Saving in HARK and dolo\n",
    "<!-- <p style=\"text-align: center;\"><small><small>Generator: BufferStockTheory-make/notebooks_byname</small></small></p>\n",
    "-->"
   ]
  },
  {
   "cell_type": "markdown",
   "metadata": {},
   "source": [
    "This notebook compares the solutions to a standard buffer stock saving model obtained by the [Econ-ARK/HARK](https://github.com/econ-ark/HARK) toolkit and the [dolo](https://github.com/EconForge/dolo) modeling system."
   ]
  },
  {
   "cell_type": "markdown",
   "metadata": {},
   "source": [
    "## [The Problem](http://econ.jhu.edu/people/ccarroll/papers/BufferStockTheory/#The-Problem) \n",
    "\n",
    "[This paper](http://econ.jhu.edu/people/ccarroll/papers/BufferStockTheory/#The-Problem) defines a buffer stock saving model and calibrates parameters:\n",
    "\n",
    "| Parameter | Description | Code | Value |\n",
    "| :---: | ---         | ---  | :---: |\n",
    "| $\\newcommand{\\PermGroFac}{\\Gamma}\\PermGroFac$ | Permanent Income Growth Factor | $\\texttt{PermGroFac}$ | 1.03 |\n",
    "| $\\newcommand{\\Rfree}{\\mathrm{\\mathsf{R}}}\\Rfree$ | Interest Factor | $\\texttt{Rfree}$ | 1.04 |\n",
    "| $\\newcommand{\\DiscFac}{\\beta}\\DiscFac$ | Time Preference Factor | $\\texttt{DiscFac}$ | 0.96 |\n",
    "| $\\newcommand{\\CRRA}{\\rho}\\CRRA$ | Coeﬃcient of Relative Risk Aversion| $\\texttt{CRRA}$ | 2 |\n",
    "| $\\newcommand{\\UnempPrb}{\\wp}\\UnempPrb$ | Probability of Unemployment | $\\texttt{UnempPrb}$ | 0.005 |\n",
    "| $\\newcommand{\\IncUnemp}{\\mu}\\IncUnemp$ | Income when Unemployed | $\\texttt{IncUnemp}$ | 0. |\n",
    "| $\\newcommand{\\PermShkStd}{\\sigma_\\psi}\\PermShkStd$ | Std Dev of Log Permanent Shock| $\\texttt{PermShkStd}$ | 0.1 |\n",
    "| $\\newcommand{\\TranShkStd}{\\sigma_\\theta}\\TranShkStd$ | Std Dev of Log Transitory Shock| $\\texttt{TranShkStd}$ | 0.1 |\n",
    "\n",
    "For a microeconomic consumer with 'Market Resources' $M_{t}$ (net worth plus current income; basically, everything the consumer owns), end-of-period assets $A_{t}$ will be the amount remaining after consuming $C_{t}$:  <!-- Next period's 'Balances' $B_{t+1}$ reflect this period's $A_{t}$ augmented by return factor $R$:-->\n",
    "\\begin{eqnarray}\n",
    "A_{t} & = & M_{t} - C_{t}  \\label{eq:DBCparts}\n",
    "\\end{eqnarray}\n",
    "\n",
    "The consumer's permanent noncapital income $P$ (in the sense of [Friedman (1957)](http://www.econ2.jhu.edu/people/ccarroll/ATheoryv3NBER.pdf)) grows by a predictable factor $\\PermGroFac$ and is subject to an unpredictable lognormally distributed multiplicative shock $\\mathbb{E}_{t}[\\psi_{t+1}]=1$, \n",
    "\\begin{eqnarray}\n",
    "P_{t+1} & = & P_{t} \\PermGroFac \\psi_{t+1}\n",
    "\\end{eqnarray}\n",
    "and actual income is permanent income multiplied by a logormal multiplicative transitory shock, $\\mathbb{E}_{t}[\\theta_{t+1}]=1$, so that next period's market resources are\n",
    "\\begin{eqnarray}\n",
    "%M_{t+1} &=& B_{t+1} +P_{t+1}\\theta_{t+1},  \\notag\n",
    "M_{t+1} &=& A_{t}R +P_{t+1}\\theta_{t+1}.  \\notag\n",
    "\\end{eqnarray}\n",
    "\n",
    "When the consumer has a standard Constant Relative Risk Aversion utility function $u(c)=\\frac{c^{1-\\rho}}{1-\\rho}$, [the paper shows](http://www.econ2.jhu.edu/people/ccarroll/papers/BufferStockTheory/#The-Problem-Can-Be-Rewritten-in-Ratio-Form) that the problem can be written in terms of ratios of money variables to permanent income, e.g. $m_{t} \\equiv M_{t}/P_{t}$, and the Bellman form of [the problem reduces to](http://econ.jhu.edu/people/ccarroll/papers/BufferStockTheory/#The-Related-Problem):\n",
    "\n",
    "\\begin{align*}\n",
    "v_t(m_t) &=& \\max_{c_t}~~ u(c_t) + \\beta~\\mathbb{E}_{t} [(\\Gamma\\psi_{t+1})^{1-\\rho} v_{t+1}(m_{t+1}) ] \\\\\n",
    "& s.t. & \\\\\n",
    "a_t &=& m_t - c_t \\\\\n",
    "m_{t+1} &=& R/(\\Gamma \\psi_{t+1}) a_t + \\theta_{t+1} \\\\\n",
    "\\end{align*}\n",
    "\n",
    "and the [Euler equation](http://www.econ2.jhu.edu/people/ccarroll/public/lecturenotes/Consumption/Envelope) for this model is \n",
    "\n",
    "\\begin{align*}\n",
    "c_{t}^{-\\rho} & = R \\beta \\mathbb{E}_{t}[(\\Gamma \\psi c_{t+1})^{-\\rho})] %\\\\\n",
    "% 0 & = & R \\beta \\mathbb{E}_{t}[(\\Gamma \\psi c_{t+1}/c_{t})^{-\\rho})]-1\n",
    "\\end{align*}\n",
    "\n",
    "\n",
    "For the purposes of this notebook, [the paper's](http://econ.jhu.edu/people/ccarroll/papers/BufferStockTheory) baseline [parameterization](http://www.econ2.jhu.edu/people/ccarroll/papers/BufferStockTheory/#Baseline-Numerical-Solution) is changed as follows:\n",
    "\n",
    "1. The unemployment (zero-income event) shocks are turned off\n",
    "2. An explicit liqudity constraint is added ($c_{t} \\leq m_{t}$); that is, the consumer is prohibited from borrowing"
   ]
  },
  {
   "cell_type": "code",
   "execution_count": 2,
   "metadata": {},
   "outputs": [
    {
     "output_type": "error",
     "ename": "ModuleNotFoundError",
     "evalue": "No module named 'HARK.ConsumptionSaving.ConsumerParameters'",
     "traceback": [
      "\u001b[0;31m---------------------------------------------------------------------------\u001b[0m",
      "\u001b[0;31mModuleNotFoundError\u001b[0m                       Traceback (most recent call last)",
      "\u001b[0;32m<ipython-input-2-b02eb1c1dd23>\u001b[0m in \u001b[0;36m<module>\u001b[0;34m\u001b[0m\n\u001b[1;32m      7\u001b[0m \u001b[0;34m\u001b[0m\u001b[0m\n\u001b[1;32m      8\u001b[0m \u001b[0;31m# Obtain the solution to the model using the HARK toolkit (see the standalone BufferStockTheory_HARK notebook)\u001b[0m\u001b[0;34m\u001b[0m\u001b[0;34m\u001b[0m\u001b[0;34m\u001b[0m\u001b[0m\n\u001b[0;32m----> 9\u001b[0;31m \u001b[0mexec\u001b[0m\u001b[0;34m(\u001b[0m\u001b[0mopen\u001b[0m\u001b[0;34m(\u001b[0m\u001b[0mmy_file_path\u001b[0m\u001b[0;34m+\u001b[0m\u001b[0;34mr'/BufferStock_HARK.py'\u001b[0m\u001b[0;34m)\u001b[0m\u001b[0;34m.\u001b[0m\u001b[0mread\u001b[0m\u001b[0;34m(\u001b[0m\u001b[0;34m)\u001b[0m\u001b[0;34m)\u001b[0m\u001b[0;34m\u001b[0m\u001b[0;34m\u001b[0m\u001b[0m\n\u001b[0m\u001b[1;32m     10\u001b[0m \u001b[0;34m\u001b[0m\u001b[0m\n\u001b[1;32m     11\u001b[0m \u001b[0;31m# Obtain the solution using dolo (see the standalone BufferStockTheory_dolo notebook)\u001b[0m\u001b[0;34m\u001b[0m\u001b[0;34m\u001b[0m\u001b[0;34m\u001b[0m\u001b[0m\n",
      "\u001b[0;32m<string>\u001b[0m in \u001b[0;36m<module>\u001b[0;34m\u001b[0m\n",
      "\u001b[0;31mModuleNotFoundError\u001b[0m: No module named 'HARK.ConsumptionSaving.ConsumerParameters'"
     ]
    }
   ],
   "source": [
    "# Tools for navigating the filesystem\n",
    "import sys\n",
    "import os\n",
    "\n",
    "# Find the notebook's own path\n",
    "my_file_path = os.path.dirname(os.path.abspath(\"BufferStockTheory.py\"))\n",
    "\n",
    "# Obtain the solution to the model using the HARK toolkit (see the standalone BufferStockTheory_HARK notebook)\n",
    "exec(open(my_file_path+r'/BufferStock_HARK.py').read())\n",
    "\n",
    "# Obtain the solution using dolo (see the standalone BufferStockTheory_dolo notebook)\n",
    "exec(open(my_file_path+r'/BufferStock_dolo.py').read())"
   ]
  },
  {
   "cell_type": "code",
   "execution_count": 3,
   "metadata": {
    "code_folding": []
   },
   "outputs": [
    {
     "data": {
      "text/plain": [
       "[<matplotlib.lines.Line2D at 0x1c20e524a8>]"
      ]
     },
     "execution_count": 3,
     "metadata": {},
     "output_type": "execute_result"
    },
    {
     "data": {
      "image/png": "[encoded data removed]",
      "text/plain": [
       "<Figure size 432x288 with 1 Axes>"
      ]
     },
     "metadata": {
      "needs_background": "light"
     },
     "output_type": "display_data"
    }
   ],
   "source": [
    "# Plot the results: Green is perfect foresight, red is HARK, black is dolo\n",
    "\n",
    "tab = tabulate(model_dolo, dr, 'm') # Tabulate points on the dolo decision rule\n",
    "plt.plot(tab['m'],tab['c'])     # This is pretty cool syntax\n",
    "m = tab.iloc[:,2]\n",
    "c_m  = model_HARK.cFunc[0](m)   # Get points on the HARK consumption rule\n",
    "# cPF uses the analytical formula for the perfect foresight solution\n",
    "cPF = (np.array(m)-1+1/(1-PermGroFac/Rfree))*((Rfree-(Rfree * DiscFac)**(1/CRRA))/Rfree)\n",
    "plt.plot(tab['m'],c_m,color=\"red\")\n",
    "plt.plot(m,cPF,color=\"green\")"
   ]
  },
  {
   "cell_type": "markdown",
   "metadata": {},
   "source": [
    "### [Upper and Lower Limits of the Marginal Propensity to Consume](https://econ.jhu.edu/people/ccarroll/papers/BufferStockTheory/#MPCLimits)\n",
    "\n",
    "The paper shows that as $m_{t}~\\uparrow~\\infty$ the consumption function in the presence of risk gets arbitrarily close to the perfect foresight consumption function.  Defining κ as the perfect foresight model's MPC, this implies that $\\lim_{m_{t}~\\uparrow~\\infty} c^{\\prime}(m) = $ κ.\n",
    "\n",
    "In the presence of the liquidity constraint and a positive minimum value of $m$, there will be a point at which the consumer becomes liquidity constrained and sets $c(m) = m$.  Below that $m$, the MPC is 1.0."
   ]
  },
  {
   "cell_type": "code",
   "execution_count": 4,
   "metadata": {
    "lines_to_next_cell": 2
   },
   "outputs": [],
   "source": [
    "# Define k_lower, h_inf and perfect foresight consumption function, upper bound of consumption function and lower\n",
    "# bound of consumption function.\n",
    "k_lower = 1.0-(model_HARK.Rfree**(-1.0))*(model_HARK.Rfree*model_HARK.DiscFac)**(1.0/model_HARK.CRRA)"
   ]
  },
  {
   "cell_type": "code",
   "execution_count": 5,
   "metadata": {},
   "outputs": [
    {
     "data": {
      "image/png": "[encoded data removed]",
      "text/plain": [
       "<Figure size 864x576 with 1 Axes>"
      ]
     },
     "metadata": {
      "needs_background": "light"
     },
     "output_type": "display_data"
    }
   ],
   "source": [
    "# The last figure shows the upper and lower limits of the MPC\n",
    "plt.figure(figsize = (12,8))\n",
    "# Set the plot range of m\n",
    "m = np.linspace(0.001,8,1000)\n",
    "\n",
    "# Use the HARK method derivative to get the derivative of cFunc, and the values are just the MPC\n",
    "MPC = model_HARK.cFunc[0].derivative(m)\n",
    "\n",
    "# Define the lower bound of MPC\n",
    "MPCLower = k_lower\n",
    "\n",
    "kappaDef=r'$\\underline{\\kappa}$'\n",
    "if not iflatexExists:\n",
    "    kappaDef=r'κ̲$\\equiv(1-\\Phi_{R})$'\n",
    "\n",
    "plt.plot(m,MPC,color = 'black')\n",
    "plt.plot([0,8],[MPCLower,MPCLower],color = 'black')\n",
    "plt.xlim(0,8)\n",
    "plt.ylim(0,1)\n",
    "plt.text(1.5,0.6,r'$\\kappa(m) \\equiv c^{\\prime}(m)$',fontsize = 26,fontweight='bold')\n",
    "plt.arrow(1.45,0.61,-0.4,0,head_width= 0.02,width=0.001,facecolor='black',length_includes_head='True')\n",
    "\n",
    "# if iflatexExists:\n",
    "#     plt.text(5,.82,r'$\\overline{\\kappa}$',fontsize = 26,fontweight='bold')\n",
    "# else:\n",
    "#     plt.text(5,0.82,r'$(1-\\wp^{1/\\rho}\\Phi_{R})\\equiv \\overline{\\kappa}$',fontsize = 26,fontweight='bold')\n",
    "# plt.arrow(4.95,0.825,-0.2,-0.03,head_width= 0.02,width=0.001,facecolor='black',length_includes_head='True')\n",
    "\n",
    "plt.text(0.5,0.07,kappaDef,fontsize = 26,fontweight='bold')\n",
    "plt.text(8.05,0,\"$m$\",fontsize = 26)\n",
    "plt.arrow(.8,0.07,0.2,-0.01,head_width= 0.02,width=0.001,facecolor='black',length_includes_head='True')\n",
    "\n",
    "if Generator:\n",
    "    plt.savefig(os.path.join(Figures_HARK_dir, 'MPCLimits.png'))\n",
    "    plt.savefig(os.path.join(Figures_HARK_dir, 'MPCLimits.jpg'))\n",
    "    plt.savefig(os.path.join(Figures_HARK_dir, 'MPCLimits.pdf'))\n",
    "    plt.savefig(os.path.join(Figures_HARK_dir, 'MPCLimits.svg'))\n",
    "if not in_ipynb():\n",
    "    plt.show(block=False) \n",
    "    plt.pause(1)\n",
    "else:\n",
    "    plt.show(block=True) # Change to False if you want to run uninterrupted"
   ]
  }
 ],
 "metadata": {
  "jupytext": {
   "encoding": "# -*- coding: utf-8 -*-",
   "formats": "ipynb,py:percent"
  },
  "kernelspec": {
   "name": "python3",
   "display_name": "Python 3.7.3 64-bit",
   "metadata": {
    "interpreter": {
     "hash": "81a89be179991973be2b13eb7102c3157f60569762d2fb76e3f8baf4230451cb"
    }
   }
  },
  "language_info": {
   "codemirror_mode": {
    "name": "ipython",
    "version": 3
   },
   "file_extension": ".py",
   "mimetype": "text/x-python",
   "name": "python",
   "nbconvert_exporter": "python",
   "pygments_lexer": "ipython3",
   "version": "3.7.3-final"
  }
 },
 "nbformat": 4,
 "nbformat_minor": 4
}
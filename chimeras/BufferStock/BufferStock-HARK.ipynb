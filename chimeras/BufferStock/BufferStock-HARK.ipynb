{
 "cells": [
  {
   "cell_type": "markdown",
   "metadata": {},
   "source": [
    "# Buffer Stock Saving in HARK"
   ]
  },
  {
   "cell_type": "markdown",
   "metadata": {},
   "source": [
    "This notebook constructs solutions to a standard buffer stock saving model obtained by the [Econ-ARK/HARK](https://github.com/econ-ark/HARK) toolkit"
   ]
  },
  {
   "cell_type": "code",
   "execution_count": null,
   "metadata": {
    "code_folding": [
     0
    ]
   },
   "outputs": [],
   "source": [
    "# This cell does some setup and imports generic tools \n",
    "# Much of the material below is unnecessary for present purposes;\n",
    "# It is inherited from a notebook designed to work on many systems and accomplish many goals\n",
    "# most of which are not relevant here\n",
    "# For \"ultimately I shoud delete these files purposes:\" It was derived from BufferStock-HARK-vs-dolo.ipynb in llorracc/dolo/examples/notebooks\n",
    "\n",
    "Generator=True # Is this notebook the master or is it generated?\n",
    "# Import related generic python packages\n",
    "import numpy as np\n",
    "from time import clock\n",
    "mystr = lambda number : \"{:.4f}\".format(number)\n",
    "\n",
    "# This is a jupytext paired notebook that autogenerates BufferStockTheory.py\n",
    "# which can be executed from a terminal command line via \"ipython BufferStockTheory.py\"\n",
    "# But a terminal does not permit inline figures, so we need to test jupyter vs terminal\n",
    "# Google \"how can I check if code is executed in the ipython notebook\"\n",
    "\n",
    "from IPython import get_ipython # In case it was run from python instead of ipython\n",
    "def in_ipynb():\n",
    "    try:\n",
    "        if str(type(get_ipython())) == \"<class 'ipykernel.zmqshell.ZMQInteractiveShell'>\":\n",
    "            return True\n",
    "        else:\n",
    "            return False\n",
    "    except NameError:\n",
    "        return False\n",
    "\n",
    "# Determine whether to make the figures inline (for spyder or jupyter)\n",
    "# vs whatever is the automatic setting that will apply if run from the terminal\n",
    "if in_ipynb():\n",
    "    # %matplotlib inline generates a syntax error when run from the shell\n",
    "    # so do this instead\n",
    "    get_ipython().run_line_magic('matplotlib', 'inline')\n",
    "else:\n",
    "    get_ipython().run_line_magic('matplotlib', 'auto')\n",
    "    print('You appear to be running from a terminal')\n",
    "    print('By default, figures will appear one by one')\n",
    "    print('Close the visible figure in order to see the next one')\n",
    "\n",
    "# Import the plot-figure library matplotlib\n",
    "\n",
    "import matplotlib.pyplot as plt\n",
    "\n",
    "# In order to use LaTeX to manage all text layout in our figures, we import rc settings from matplotlib.\n",
    "from matplotlib import rc\n",
    "plt.rc('font', family='serif')\n",
    "\n",
    "# LaTeX is huge and takes forever to install on mybinder\n",
    "# so if it is not installed then do not use it \n",
    "from distutils.spawn import find_executable\n",
    "iflatexExists=False\n",
    "if find_executable('latex'):\n",
    "    iflatexExists=True\n",
    "    \n",
    "plt.rc('font', family='serif')\n",
    "plt.rc('text', usetex=iflatexExists)\n",
    "\n",
    "# The warnings package allows us to ignore some harmless but alarming warning messages\n",
    "import warnings\n",
    "warnings.filterwarnings(\"ignore\")\n",
    "\n",
    "# The tools for navigating the filesystem\n",
    "import sys\n",
    "import os\n",
    "\n",
    "sys.path.insert(0, os.path.abspath('../../lib')) # REMARKs directory is two down from root \n",
    "\n",
    "from HARK.utilities import plotFuncsDer, plotFuncs\n",
    "from copy import copy, deepcopy\n",
    "\n",
    "# Define (and create, if necessary) the figures directory \"Figures\"\n",
    "if Generator:\n",
    "    my_file_path = os.path.dirname(os.path.abspath(\"BufferStockTheory.py\")) # Find pathname to this file:\n",
    "    Figures_HARK_dir = os.path.join(my_file_path,\"Figures/\") # LaTeX document assumes figures will be here\n",
    "    Figures_HARK_dir = os.path.join(my_file_path,\"/tmp/Figures/\") # Uncomment to make figures outside of git path\n",
    "    if not os.path.exists(Figures_HARK_dir):\n",
    "        os.makedirs(Figures_HARK_dir)"
   ]
  },
  {
   "cell_type": "markdown",
   "metadata": {},
   "source": [
    "## [The Problem](http://econ.jhu.edu/people/ccarroll/papers/BufferStockTheory/#The-Problem) \n",
    "\n",
    "[This paper](http://econ.jhu.edu/people/ccarroll/papers/BufferStockTheory/#The-Problem) defines a buffer stock saving model and calibrates parameters:\n",
    "\n",
    "| Parameter | Description | Code | Value |\n",
    "| :---: | ---         | ---  | :---: |\n",
    "| $\\newcommand{\\PermGroFac}{\\Gamma}\\PermGroFac$ | Permanent Income Growth Factor | $\\texttt{PermGroFac}$ | 1.03 |\n",
    "| $\\newcommand{\\Rfree}{\\mathrm{\\mathsf{R}}}\\Rfree$ | Interest Factor | $\\texttt{Rfree}$ | 1.04 |\n",
    "| $\\newcommand{\\DiscFac}{\\beta}\\DiscFac$ | Time Preference Factor | $\\texttt{DiscFac}$ | 0.96 |\n",
    "| $\\newcommand{\\CRRA}{\\rho}\\CRRA$ | Coeﬃcient of Relative Risk Aversion| $\\texttt{CRRA}$ | 2 |\n",
    "| $\\newcommand{\\UnempPrb}{\\wp}\\UnempPrb$ | Probability of Unemployment | $\\texttt{UnempPrb}$ | 0.005 |\n",
    "| $\\newcommand{\\IncUnemp}{\\mu}\\IncUnemp$ | Income when Unemployed | $\\texttt{IncUnemp}$ | 0. |\n",
    "| $\\newcommand{\\PermShkStd}{\\sigma_\\psi}\\PermShkStd$ | Std Dev of Log Permanent Shock| $\\texttt{PermShkStd}$ | 0.1 |\n",
    "| $\\newcommand{\\TranShkStd}{\\sigma_\\theta}\\TranShkStd$ | Std Dev of Log Transitory Shock| $\\texttt{TranShkStd}$ | 0.1 |\n",
    "\n",
    "For a microeconomic consumer with 'Market Resources' $M_{t}$ (net worth plus current income; basically, everything the consumer owns), end-of-period assets $A_{t}$ will be the amount remaining after consuming $C_{t}$:  <!-- Next period's 'Balances' $B_{t+1}$ reflect this period's $A_{t}$ augmented by return factor $R$:-->\n",
    "\\begin{eqnarray}\n",
    "A_{t}   &=&M_{t}-C_{t}.  \\label{eq:DBCparts}\n",
    "\\end{eqnarray}\n",
    "\n",
    "The consumer's permanent noncapital income $P$ (in the sense of [Friedman (1957)](http://www.econ2.jhu.edu/people/ccarroll/ATheoryv3NBER.pdf)) grows by a predictable factor $\\PermGroFac$ and is subject to an unpredictable lognormally distributed multiplicative shock $\\mathbb{E}_{t}[\\psi_{t+1}]=1$, \n",
    "\\begin{eqnarray}\n",
    "P_{t+1} & = & P_{t} \\PermGroFac \\psi_{t+1}\n",
    "\\end{eqnarray}\n",
    "and actual income is permanent income multiplied by a logormal multiplicative transitory shock, $\\mathbb{E}_{t}[\\theta_{t+1}]=1$, so that next period's market resources are\n",
    "\\begin{eqnarray}\n",
    "%M_{t+1} &=& B_{t+1} +P_{t+1}\\theta_{t+1},  \\notag\n",
    "M_{t+1} &=& A_{t}R +P_{t+1}\\theta_{t+1}.  \\notag\n",
    "\\end{eqnarray}\n",
    "\n",
    "When the consumer has a standard Constant Relative Risk Aversion utility function $u(c)=\\frac{c^{1-\\rho}}{1-\\rho}$, [the paper shows](http://www.econ2.jhu.edu/people/ccarroll/papers/BufferStockTheory/#The-Problem-Can-Be-Rewritten-in-Ratio-Form) that the problem can be written in terms of ratios of money variables to permanent income, e.g. $m_{t} \\equiv M_{t}/P_{t}$, and the Bellman form of [the problem reduces to](http://econ.jhu.edu/people/ccarroll/papers/BufferStockTheory/#The-Related-Problem):\n",
    "\n",
    "\\begin{eqnarray*}\n",
    "v_t(m_t) &=& \\max_{c_t}~~ u(c_t) + \\beta~\\mathbb{E}_{t} [(\\Gamma\\psi_{t+1})^{1-\\rho} v_{t+1}(m_{t+1}) ] \\\\\n",
    "& s.t. & \\\\\n",
    "a_t &=& m_t - c_t \\\\\n",
    "m_{t+1} &=& R/(\\Gamma \\psi_{t+1}) a_t + \\theta_{t+1} \\\\\n",
    "\\end{eqnarray*}\n",
    "\n",
    "and the [Euler equation](http://www.econ2.jhu.edu/people/ccarroll/public/lecturenotes/Consumption/Envelope) for this model is \n",
    "\n",
    "\\begin{align*}\n",
    "c_{t}^{-\\rho} & = R \\beta \\mathbb{E}_{t}[(\\Gamma \\psi c_{t+1})^{-\\rho})] %\\\\\n",
    "% 0 & = & R \\beta \\mathbb{E}_{t}[(\\Gamma \\psi c_{t+1}/c_{t})^{-\\rho})]-1\n",
    "\\end{align*}\n",
    "\n",
    "\n",
    "For the purposes of this notebook, [the paper's](http://econ.jhu.edu/people/ccarroll/papers/BufferStockTheory) baseline [parameterization](http://www.econ2.jhu.edu/people/ccarroll/papers/BufferStockTheory/#Baseline-Numerical-Solution) is changed as follows:\n",
    "\n",
    "1. The unemployment (zero-income event) shocks are turned off\n",
    "2. An explicit liqudity constraint is added ($c_{t} \\leq m_{t}$); that is, the consumer is prohibited from borrowing"
   ]
  },
  {
   "cell_type": "markdown",
   "metadata": {},
   "source": [
    "# HARK\n",
    "The [Econ-ARK/HARK](https://github.com/econ-ark/HARK) toolkit's solution to this problem is part of the $\\texttt{ConsIndShockModel.py}$ module in the $\\texttt{ConsumptionSaving}$ directory of tools.  For an introduction to this module, see the [ConsIndShockModel.ipynb](https://econ-ark.org/notebooks) notebook at the [Econ-ARK](https://econ-ark.org) website."
   ]
  },
  {
   "cell_type": "code",
   "execution_count": null,
   "metadata": {
    "code_folding": [
     0
    ],
    "lines_to_next_cell": 0
   },
   "outputs": [],
   "source": [
    "# Define a parameter dictionary with baseline parameter values\n",
    "\n",
    "# Set the baseline parameter values \n",
    "PermGroFac = 1.03\n",
    "Rfree      = 1.04\n",
    "DiscFac    = 0.96\n",
    "CRRA       = 2.00\n",
    "UnempPrb   = 0.00\n",
    "IncUnemp   = 0.0\n",
    "PermShkStd = 0.1\n",
    "TranShkStd = 0.1\n",
    "# Import default parameter values\n",
    "import HARK.ConsumptionSaving.ConsumerParameters as Params \n",
    "\n",
    "# Make a dictionary containing all parameters needed to solve the model\n",
    "base_params = Params.init_idiosyncratic_shocks\n",
    "\n",
    "# Set the parameters for the baseline results in the paper\n",
    "# using the variable values defined in the cell above\n",
    "base_params['PermGroFac'] = [PermGroFac]   # Permanent income growth factor\n",
    "base_params['Rfree']      = Rfree          # Interest factor on assets\n",
    "base_params['DiscFac']    = DiscFac        # Time Preference Factor\n",
    "base_params['CRRA']       = CRRA           # Coefficient of relative risk aversion\n",
    "base_params['UnempPrb']   = UnempPrb       # Probability of unemployment (e.g. Probability of Zero Income in the paper)\n",
    "base_params['IncUnemp']   = IncUnemp       # Induces natural borrowing constraint\n",
    "base_params['PermShkStd'] = [PermShkStd]   # Standard deviation of log permanent income shocks\n",
    "base_params['TranShkStd'] = [TranShkStd]   # Standard deviation of log transitory income shocks\n",
    "\n",
    "# Some technical settings that are not interesting for our purposes\n",
    "base_params['LivPrb']       = [1.0]   # 100 percent probability of living to next period\n",
    "base_params['CubicBool']    = True    # Use cubic spline interpolation\n",
    "base_params['T_cycle']      = 1       # No 'seasonal' cycles\n",
    "base_params['BoroCnstArt']  = None    # No artificial borrowing constraint\n",
    "\n",
    "from HARK.utilities import plotFuncsDer, plotFuncs\n",
    "from HARK.ConsumptionSaving.ConsIndShockModel import IndShockConsumerType"
   ]
  },
  {
   "cell_type": "code",
   "execution_count": null,
   "metadata": {
    "code_folding": [
     0
    ]
   },
   "outputs": [],
   "source": [
    "# Create a model identical to the dolo model\n",
    "# Start with the HARK baseline parameters and modify \n",
    "# to be like the dolo model \n",
    "base_params_dolo = dict(base_params)\n",
    "base_params_dolo['BoroCnstArt']  = 0.0    # Liquidity constraint at 0\n",
    "base_params_dolo['UnempPrb']     = 0      # No point-mass on unemployment state \n",
    "base_params_dolo['TranShkCount'] = 5      # Default number of nodes in dolo\n",
    "base_params_dolo['PermShkCount'] = 5\n",
    "base_params_dolo['aXtraMax']     = max_m  # Use same maximum\n",
    "base_params_dolo['aXtraCount']   = 100    # How dense to make the grid\n",
    "base_params_dolo['DiscFac']      = 0.96\n",
    "#base_params_dolo['CubicBool']    = False\n",
    "model_HARK = IndShockConsumerType(**base_params_dolo,cycles=0) # cycles=0 indicates infinite horizon"
   ]
  },
  {
   "cell_type": "code",
   "execution_count": null,
   "metadata": {
    "code_folding": [
     0
    ]
   },
   "outputs": [],
   "source": [
    "# Solve the HARK model \n",
    "model_HARK.updateIncomeProcess()\n",
    "model_HARK.solve()\n",
    "model_HARK.UnempPrb = 0.05\n",
    "model_HARK.unpackcFunc()"
   ]
  },
  {
   "cell_type": "code",
   "execution_count": null,
   "metadata": {
    "code_folding": [
     0
    ]
   },
   "outputs": [],
   "source": [
    "# Plot the results: Green is perfect foresight, red is HARK, black is dolo\n",
    "\n",
    "tab = tabulate(model_dolo, dr, 'm')\n",
    "plt.plot(tab['m'],tab['c'])     # This is pretty cool syntax\n",
    "m = tab.iloc[:,2]\n",
    "c_m  = model_HARK.cFunc[0](m)   \n",
    "# cPF uses the analytical formula for the perfect foresight solution\n",
    "cPF = (np.array(m)-1+1/(1-PermGroFac/Rfree))*((Rfree-(Rfree * DiscFac)**(1/CRRA))/Rfree)\n",
    "plt.plot(tab['m'],c_m,color=\"red\")\n",
    "plt.plot(m,cPF,color=\"green\")"
   ]
  }
 ],
 "metadata": {
  "jupytext": {
   "encoding": "# -*- coding: utf-8 -*-",
   "formats": "ipynb,py:percent"
  },
  "kernelspec": {
   "display_name": "Python 3",
   "language": "python",
   "name": "python3"
  },
  "language_info": {
   "codemirror_mode": {
    "name": "ipython",
    "version": 3
   },
   "file_extension": ".py",
   "mimetype": "text/x-python",
   "name": "python",
   "nbconvert_exporter": "python",
   "pygments_lexer": "ipython3",
   "version": "3.6.9"
  }
 },
 "nbformat": 4,
 "nbformat_minor": 4
}

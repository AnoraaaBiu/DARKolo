{
 "cells": [
  {
   "cell_type": "markdown",
   "metadata": {},
   "source": [
    "# Buffer Stock Saving in HARK"
   ]
  },
  {
   "cell_type": "markdown",
   "metadata": {},
   "source": [
    "This notebook constructs solutions to a standard buffer stock saving model obtained by the [Econ-ARK/HARK](https://github.com/econ-ark/HARK) toolkit"
   ]
  },
  {
   "cell_type": "code",
   "execution_count": 1,
   "metadata": {
    "code_folding": [
     0
    ]
   },
   "outputs": [],
   "source": [
    "# This cell does some setup and imports generic tools \n",
    "# Much of the material below is unnecessary for present purposes;\n",
    "# It is inherited from a notebook designed to work on many systems and accomplish many goals\n",
    "# most of which are not relevant here\n",
    "# For \"ultimately I shoud delete these files purposes:\" It was derived from BufferStock-HARK-vs-dolo.ipynb in llorracc/dolo/examples/notebooks\n",
    "\n",
    "Generator=True # Is this notebook the master or is it generated?\n",
    "# Import related generic python packages\n",
    "import numpy as np\n",
    "from time import clock\n",
    "mystr = lambda number : \"{:.4f}\".format(number)\n",
    "\n",
    "# This is a jupytext paired notebook that autogenerates BufferStockTheory.py\n",
    "# which can be executed from a terminal command line via \"ipython BufferStockTheory.py\"\n",
    "# But a terminal does not permit inline figures, so we need to test jupyter vs terminal\n",
    "# Google \"how can I check if code is executed in the ipython notebook\"\n",
    "\n",
    "from IPython import get_ipython # In case it was run from python instead of ipython\n",
    "def in_ipynb():\n",
    "    try:\n",
    "        if str(type(get_ipython())) == \"<class 'ipykernel.zmqshell.ZMQInteractiveShell'>\":\n",
    "            return True\n",
    "        else:\n",
    "            return False\n",
    "    except NameError:\n",
    "        return False\n",
    "\n",
    "# Determine whether to make the figures inline (for spyder or jupyter)\n",
    "# vs whatever is the automatic setting that will apply if run from the terminal\n",
    "if in_ipynb():\n",
    "    # %matplotlib inline generates a syntax error when run from the shell\n",
    "    # so do this instead\n",
    "    get_ipython().run_line_magic('matplotlib', 'inline')\n",
    "else:\n",
    "    get_ipython().run_line_magic('matplotlib', 'auto')\n",
    "    print('You appear to be running from a terminal')\n",
    "    print('By default, figures will appear one by one')\n",
    "    print('Close the visible figure in order to see the next one')\n",
    "\n",
    "# Import the plot-figure library matplotlib\n",
    "\n",
    "import matplotlib.pyplot as plt\n",
    "\n",
    "# In order to use LaTeX to manage all text layout in our figures, we import rc settings from matplotlib.\n",
    "from matplotlib import rc\n",
    "plt.rc('font', family='serif')\n",
    "\n",
    "# LaTeX is huge and takes forever to install on mybinder\n",
    "# so if it is not installed then do not use it \n",
    "from distutils.spawn import find_executable\n",
    "iflatexExists=False\n",
    "if find_executable('latex'):\n",
    "    iflatexExists=True\n",
    "    \n",
    "plt.rc('font', family='serif')\n",
    "plt.rc('text', usetex=iflatexExists)\n",
    "\n",
    "# The warnings package allows us to ignore some harmless but alarming warning messages\n",
    "import warnings\n",
    "warnings.filterwarnings(\"ignore\")\n",
    "\n",
    "# The tools for navigating the filesystem\n",
    "import sys\n",
    "import os\n",
    "\n",
    "sys.path.insert(0, os.path.abspath('../../lib')) # REMARKs directory is two down from root \n",
    "\n",
    "from HARK.utilities import plotFuncsDer, plotFuncs\n",
    "from copy import copy, deepcopy\n",
    "\n",
    "# Define (and create, if necessary) the figures directory \"Figures\"\n",
    "if Generator:\n",
    "    my_file_path = os.path.dirname(os.path.abspath(\"BufferStockTheory.py\")) # Find pathname to this file:\n",
    "    Figures_HARK_dir = os.path.join(my_file_path,\"Figures/\") # LaTeX document assumes figures will be here\n",
    "    Figures_HARK_dir = os.path.join(my_file_path,\"/tmp/Figures/\") # Uncomment to make figures outside of git path\n",
    "    if not os.path.exists(Figures_HARK_dir):\n",
    "        os.makedirs(Figures_HARK_dir)"
   ]
  },
  {
   "cell_type": "markdown",
   "metadata": {},
   "source": [
    "# HARK\n",
    "The [Econ-ARK/HARK](https://github.com/econ-ark/HARK) toolkit's solution to this problem is part of the $\\texttt{ConsIndShockModel.py}$ module in the $\\texttt{ConsumptionSaving}$ directory of tools.  For an introduction to this module, see the [ConsIndShockModel.ipynb](https://econ-ark.org/notebooks) notebook at the [Econ-ARK](https://econ-ark.org) website."
   ]
  },
  {
   "cell_type": "code",
   "execution_count": 2,
   "metadata": {},
   "outputs": [],
   "source": [
    "import HARK.ConsumptionSaving.ConsumerParameters as Params \n",
    "import BufferStockParameters"
   ]
  },
  {
   "cell_type": "code",
   "execution_count": 3,
   "metadata": {
    "code_folding": [
     0
    ],
    "lines_to_next_cell": 0
   },
   "outputs": [],
   "source": [
    "# Define a parameter dictionary with baseline parameter values\n",
    "\n",
    "# Set the baseline parameter values \n",
    "PermGroFac = 1.03\n",
    "Rfree      = 1.04\n",
    "DiscFac    = 0.96\n",
    "CRRA       = 2.00\n",
    "UnempPrb   = 0.00\n",
    "IncUnemp   = 0.0\n",
    "PermShkStd = 0.1\n",
    "TranShkStd = 0.1\n",
    "# Import default parameter values\n",
    "import HARK.ConsumptionSaving.ConsumerParameters as Params \n",
    "\n",
    "# Make a dictionary containing all parameters needed to solve the model\n",
    "base_params = Params.init_idiosyncratic_shocks\n",
    "\n",
    "# Set the parameters for the baseline results in the paper\n",
    "# using the variable values defined in the cell above\n",
    "base_params['PermGroFac'] = [PermGroFac]   # Permanent income growth factor\n",
    "base_params['Rfree']      = Rfree          # Interest factor on assets\n",
    "base_params['DiscFac']    = DiscFac        # Time Preference Factor\n",
    "base_params['CRRA']       = CRRA           # Coefficient of relative risk aversion\n",
    "base_params['UnempPrb']   = UnempPrb       # Probability of unemployment (e.g. Probability of Zero Income in the paper)\n",
    "base_params['IncUnemp']   = IncUnemp       # Induces natural borrowing constraint\n",
    "base_params['PermShkStd'] = [PermShkStd]   # Standard deviation of log permanent income shocks\n",
    "base_params['TranShkStd'] = [TranShkStd]   # Standard deviation of log transitory income shocks\n",
    "\n",
    "# Some technical settings that are not interesting for our purposes\n",
    "base_params['LivPrb']       = [1.0]   # 100 percent probability of living to next period\n",
    "base_params['CubicBool']    = True    # Use cubic spline interpolation\n",
    "base_params['T_cycle']      = 1       # No 'seasonal' cycles\n",
    "base_params['BoroCnstArt']  = None    # No artificial borrowing constraint\n",
    "\n",
    "from HARK.utilities import plotFuncsDer, plotFuncs\n",
    "from HARK.ConsumptionSaving.ConsIndShockModel import IndShockConsumerType"
   ]
  },
  {
   "cell_type": "code",
   "execution_count": 4,
   "metadata": {
    "code_folding": [
     0
    ]
   },
   "outputs": [],
   "source": [
    "# Create a model identical to the dolo model\n",
    "# Start with the HARK baseline parameters and modify \n",
    "# to be like the dolo model \n",
    "base_params_dolo = dict(base_params)\n",
    "base_params_dolo['BoroCnstArt']  = 0.0    # Liquidity constraint at 0\n",
    "base_params_dolo['UnempPrb']     = 0      # No point-mass on unemployment state \n",
    "base_params_dolo['TranShkCount'] = 5      # Default number of nodes in dolo\n",
    "base_params_dolo['PermShkCount'] = 5\n",
    "base_params_dolo['aXtraMax']     = BufferStockParameters.Common['max_m']  # Use same maximum as dolo\n",
    "base_params_dolo['aXtraCount']   = 100    # How dense to make the grid\n",
    "base_params_dolo['DiscFac']      = 0.96\n",
    "#base_params_dolo['CubicBool']    = False\n",
    "model_HARK = IndShockConsumerType(**base_params_dolo,cycles=0) # cycles=0 indicates infinite horizon"
   ]
  },
  {
   "cell_type": "code",
   "execution_count": 5,
   "metadata": {
    "code_folding": [
     0
    ]
   },
   "outputs": [
    {
     "name": "stdout",
     "output_type": "stream",
     "text": [
      "\n",
      "\n",
      "\n",
      "\n",
      "\n"
     ]
    }
   ],
   "source": [
    "# Solve the HARK model \n",
    "model_HARK.updateIncomeProcess()\n",
    "model_HARK.solve()\n",
    "model_HARK.UnempPrb = 0.05\n",
    "model_HARK.unpackcFunc()"
   ]
  }
 ],
 "metadata": {
  "jupytext": {
   "encoding": "# -*- coding: utf-8 -*-",
   "formats": "ipynb,py:percent"
  },
  "kernelspec": {
   "display_name": "Python 3",
   "language": "python",
   "name": "python3"
  },
  "language_info": {
   "codemirror_mode": {
    "name": "ipython",
    "version": 3
   },
   "file_extension": ".py",
   "mimetype": "text/x-python",
   "name": "python",
   "nbconvert_exporter": "python",
   "pygments_lexer": "ipython3",
   "version": "3.6.9"
  }
 },
 "nbformat": 4,
 "nbformat_minor": 4
}
